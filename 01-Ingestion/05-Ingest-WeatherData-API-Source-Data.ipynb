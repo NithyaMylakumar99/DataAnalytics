{
 "cells": [
  {
   "cell_type": "markdown",
   "metadata": {
    "application/vnd.databricks.v1+cell": {
     "cellMetadata": {
      "byteLimit": 2048000,
      "rowLimit": 10000
     },
     "inputWidgets": {},
     "nuid": "c29a0f0b-c1fd-4f8b-8821-048dffc7bc88",
     "showTitle": false,
     "tableResultSettingsMap": {},
     "title": ""
    }
   },
   "source": [
    "%md\n",
    "source API URL : \"https://archive-api.open-meteo.com/v1/archive?latitude=52.52&longitude=13.41&start_date=2023-01-01&end_date=2024-01-01&daily=temperature_2m_max,temperature_2m_min,rain_sum\"\n",
    "\n",
    "JSON Target File Path : \"abfss://bronze@datalakestorageaccountname.dfs.core.windows.net/bronze/weather-data/\n",
    "\""
   ]
  },
  {
   "cell_type": "code",
   "execution_count": 0,
   "metadata": {
    "application/vnd.databricks.v1+cell": {
     "cellMetadata": {
      "byteLimit": 2048000,
      "rowLimit": 10000
     },
     "inputWidgets": {},
     "nuid": "c9439d7b-2fcd-4695-812e-43cd6e933da0",
     "showTitle": false,
     "tableResultSettingsMap": {},
     "title": ""
    }
   },
   "outputs": [],
   "source": [
    "#weatherDataSourceAPIURL = \"https://archive-api.open-meteo.com/v1/archive?latitude=52.52&longitude=13.41&start_date=2023-01-01&end_date=2024-01-01&daily=temperature_2m_max,temperature_2m_min,rain_sum\"\n",
    "\n",
    "weatherDataSourceAPIBaseURL = \"https://archive-api.open-meteo.com/v1/archive?latitude=\"\n",
    "weatherDataSourceAPIURLOptions = \"&daily=temperature_2m_max,temperature_2m_min,rain_sum\"\n",
    "\n",
    "weatherDataSinkLayerName = 'bronze'\n",
    "weatherDataSinkStorageAccountName = 'adlsadataengdev'\n",
    "weatherDataSinkFolderName = 'bronze/weather-data'\n",
    "\n",
    "weatherDataSinkFolderPath = f\"abfss://{weatherDataSinkLayerName}@{weatherDataSinkStorageAccountName}.dfs.core.windows.net/{weatherDataSinkFolderName}\""
   ]
  },
  {
   "cell_type": "code",
   "execution_count": 0,
   "metadata": {
    "application/vnd.databricks.v1+cell": {
     "cellMetadata": {
      "byteLimit": 2048000,
      "rowLimit": 10000
     },
     "inputWidgets": {},
     "nuid": "bd4e1063-44db-469f-96ea-0f8b21c75b57",
     "showTitle": false,
     "tableResultSettingsMap": {},
     "title": ""
    }
   },
   "outputs": [],
   "source": [
    "import requests\n",
    "import json\n",
    "import pandas as pds"
   ]
  },
  {
   "cell_type": "code",
   "execution_count": 0,
   "metadata": {
    "application/vnd.databricks.v1+cell": {
     "cellMetadata": {
      "byteLimit": 2048000,
      "rowLimit": 10000
     },
     "inputWidgets": {},
     "nuid": "e2a3d39b-c992-4fea-b699-d9b9900b277c",
     "showTitle": false,
     "tableResultSettingsMap": {},
     "title": ""
    }
   },
   "outputs": [],
   "source": [
    "geoLocationsDF = spark.sql(\"SELECT latitude, longitude, marketName FROM pricing_analytics.silver.geo_location_silver LIMIT 100\")"
   ]
  },
  {
   "cell_type": "code",
   "execution_count": 0,
   "metadata": {
    "application/vnd.databricks.v1+cell": {
     "cellMetadata": {
      "byteLimit": 2048000,
      "rowLimit": 10000
     },
     "inputWidgets": {},
     "nuid": "b75627dd-1991-40c9-b553-c00a4007ba5d",
     "showTitle": false,
     "tableResultSettingsMap": {},
     "title": ""
    }
   },
   "outputs": [],
   "source": [
    "weatherDataAPIResponseList = []\n",
    "for geoLocations in geoLocationsDF.collect():\n",
    "    #print(geoLocations[\"marketName\"], geoLocations[\"latitude\"], geoLocations[\"longitude\"])\n",
    "    weatherDataSourceAPIURL = f\"{weatherDataSourceAPIBaseURL}{geoLocations['latitude']}&longitude={geoLocations['longitude']}&start_date=2023-01-01&end_date=2023-12-31{weatherDataSourceAPIURLOptions}\"\n",
    "    weatherDataAPIResponse = requests.get(weatherDataSourceAPIURL).json()\n",
    "    weatherDataAPIResponse[\"marketName\"] = geoLocations[\"marketName\"]\n",
    "    weatherDataAPIResponseJson = json.dumps(weatherDataAPIResponse)\n",
    "    if isinstance(weatherDataAPIResponse,dict):\n",
    "        weatherDataAPIResponseList.append(weatherDataAPIResponseJson)\n",
    "    \n",
    "weatherDataRDD = sc.parallelize(weatherDataAPIResponseList)\n",
    "weatherDataSparkDF = spark.read.json(weatherDataRDD)\n",
    "(weatherDataSparkDF\n",
    " .write\n",
    " .mode(\"overwrite\")\n",
    " .json(weatherDataSinkFolderPath)\n",
    ")\n",
    "\n",
    "    "
   ]
  },
  {
   "cell_type": "code",
   "execution_count": 0,
   "metadata": {
    "application/vnd.databricks.v1+cell": {
     "cellMetadata": {
      "byteLimit": 2048000,
      "rowLimit": 10000
     },
     "inputWidgets": {},
     "nuid": "c77d5671-c8cc-4401-802c-4c201517f560",
     "showTitle": false,
     "tableResultSettingsMap": {},
     "title": ""
    }
   },
   "outputs": [],
   "source": []
  }
 ],
 "metadata": {
  "application/vnd.databricks.v1+notebook": {
   "computePreferences": null,
   "dashboards": [],
   "environmentMetadata": {
    "base_environment": "",
    "environment_version": "2"
   },
   "language": "python",
   "notebookMetadata": {
    "mostRecentlyExecutedCommandWithImplicitDF": {
     "commandId": -1,
     "dataframes": [
      "_sqldf"
     ]
    },
    "pythonIndentUnit": 4
   },
   "notebookName": "05-Ingest-WeatherData-API-Source-Data",
   "widgets": {}
  },
  "language_info": {
   "name": "python"
  }
 },
 "nbformat": 4,
 "nbformat_minor": 0
}
