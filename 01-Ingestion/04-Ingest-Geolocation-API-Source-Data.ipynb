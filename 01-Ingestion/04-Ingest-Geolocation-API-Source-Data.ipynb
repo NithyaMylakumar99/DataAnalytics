{
 "cells": [
  {
   "cell_type": "markdown",
   "metadata": {
    "application/vnd.databricks.v1+cell": {
     "cellMetadata": {
      "byteLimit": 2048000,
      "rowLimit": 10000
     },
     "inputWidgets": {},
     "nuid": "0ccbcf4d-6aba-44f5-9bdd-336600fb20d7",
     "showTitle": false,
     "tableResultSettingsMap": {},
     "title": ""
    }
   },
   "source": [
    "source API URL : \"https://geocoding-api.open-meteo.com/v1/search?name=kovilpatti&count=10&language=en&format=json\"\n",
    "\n",
    "JSON Target File Path = \"abfss://working-labs@adlsadataengdev.dfs.core.windows.net/bronze/geo-location/\""
   ]
  },
  {
   "cell_type": "code",
   "execution_count": 0,
   "metadata": {
    "application/vnd.databricks.v1+cell": {
     "cellMetadata": {
      "byteLimit": 2048000,
      "rowLimit": 10000
     },
     "inputWidgets": {},
     "nuid": "a203a20f-f369-4bc9-a21a-49d1f5700311",
     "showTitle": false,
     "tableResultSettingsMap": {},
     "title": ""
    }
   },
   "outputs": [],
   "source": [
    "geoLocationSourceAPIURL = \"https://geocoding-api.open-meteo.com/v1/search?name=kovilpatti&count=10&language=en&format=json\"\n",
    "\n",
    "geoLocationSourceAPIBaseURL = \"https://geocoding-api.open-meteo.com/v1/search?name=\"\n",
    "geoLocationSourceAPIURLOptions = \"&count=10&language=en&format=json\"\n",
    "\n",
    "geoLocationSinkLayerName = 'bronze'\n",
    "geoLocationSinkStorageAccountName = 'adlsadataengdev'\n",
    "geoLocationSinkFolderName = 'geo-location'\n",
    "\n",
    "geoLocationSinkFolderPath = f\"abfss://{geoLocationSinkLayerName}@{geoLocationSinkStorageAccountName}.dfs.core.windows.net/{geoLocationSinkFolderName}\""
   ]
  },
  {
   "cell_type": "code",
   "execution_count": 0,
   "metadata": {
    "application/vnd.databricks.v1+cell": {
     "cellMetadata": {
      "byteLimit": 2048000,
      "rowLimit": 10000
     },
     "inputWidgets": {},
     "nuid": "c3db3ef6-3654-4ff1-b8e3-f3d1cd2e54a0",
     "showTitle": false,
     "tableResultSettingsMap": {},
     "title": ""
    }
   },
   "outputs": [],
   "source": [
    "import requests\n",
    "import pandas as pds\n",
    "import json"
   ]
  },
  {
   "cell_type": "code",
   "execution_count": 0,
   "metadata": {
    "application/vnd.databricks.v1+cell": {
     "cellMetadata": {
      "byteLimit": 2048000,
      "rowLimit": 10000
     },
     "inputWidgets": {},
     "nuid": "22c1a7c4-2601-4f4c-beb3-fc87ad686d89",
     "showTitle": false,
     "tableResultSettingsMap": {},
     "title": ""
    }
   },
   "outputs": [],
   "source": [
    "geoLocationAPIResponse = requests.get(geoLocationSourceAPIURL).json()\n",
    "geoLocationPandasDF = pds.DataFrame(geoLocationAPIResponse)\n",
    "geoLocationSparkDF = spark.createDataFrame(geoLocationPandasDF)"
   ]
  },
  {
   "cell_type": "code",
   "execution_count": 0,
   "metadata": {
    "application/vnd.databricks.v1+cell": {
     "cellMetadata": {
      "byteLimit": 2048000,
      "rowLimit": 10000
     },
     "inputWidgets": {},
     "nuid": "b89e9dc4-c77a-4fc0-b5c4-bb53194b1665",
     "showTitle": false,
     "tableResultSettingsMap": {},
     "title": ""
    }
   },
   "outputs": [],
   "source": [
    "dailyPricingMarketNamesDF = spark.sql(\"SELECT MARKET_NAME FROM pricing_analytics.gold.reporting_dim_market_gold\")"
   ]
  },
  {
   "cell_type": "code",
   "execution_count": 0,
   "metadata": {
    "application/vnd.databricks.v1+cell": {
     "cellMetadata": {
      "byteLimit": 2048000,
      "rowLimit": 10000
     },
     "inputWidgets": {},
     "nuid": "9916a4eb-bd8f-4d3e-8656-ba6c2e8d8b53",
     "showTitle": false,
     "tableResultSettingsMap": {},
     "title": ""
    }
   },
   "outputs": [],
   "source": [
    "from pyspark.sql.types import *\n",
    "marketNames = [dailyPricingMarketNames[\"MARKET_NAME\"] for dailyPricingMarketNames in dailyPricingMarketNamesDF.collect()]\n",
    "\n",
    "geoLocationAPIResponseList =[]\n",
    "\n",
    "for marketName in marketNames:\n",
    "    \n",
    "    geoLocationSourceAPIURL = f\"{geoLocationSourceAPIBaseURL}{marketName}{geoLocationSourceAPIURLOptions}\"\n",
    "    geoLocationAPIResponse = requests.get(geoLocationSourceAPIURL).json()\n",
    "    \n",
    "    if isinstance(geoLocationAPIResponse, dict):\n",
    "        geoLocationAPIResponseList.append(geoLocationAPIResponse)\n",
    "\n",
    "print(geoLocationAPIResponse)\n",
    "geoLocationSparkRDD = sc.parallelize(geoLocationAPIResponseList)\n",
    "geoLocationSparkDF = spark.read.json(geoLocationSparkRDD)\n",
    "(geoLocationSparkDF\n",
    " .filter(\"results.admin1 IS NOT NULL\")\n",
    " .write\n",
    " .mode(\"overwrite\")\n",
    " .json(geoLocationSinkFolderPath))\n"
   ]
  },
  {
   "cell_type": "code",
   "execution_count": 0,
   "metadata": {
    "application/vnd.databricks.v1+cell": {
     "cellMetadata": {
      "byteLimit": 2048000,
      "rowLimit": 10000
     },
     "inputWidgets": {},
     "nuid": "31b87d68-2d5c-4be5-b44d-9d6a4c43f6e1",
     "showTitle": false,
     "tableResultSettingsMap": {},
     "title": ""
    }
   },
   "outputs": [],
   "source": [
    "geoLocationBronzeDF = (spark\n",
    "                       .read\n",
    "                       .json(geoLocationSinkFolderPath)\n",
    "                    )\n",
    "display(geoLocationBronzeDF)"
   ]
  }
 ],
 "metadata": {
  "application/vnd.databricks.v1+notebook": {
   "computePreferences": null,
   "dashboards": [],
   "environmentMetadata": {
    "base_environment": "",
    "environment_version": "2"
   },
   "language": "python",
   "notebookMetadata": {
    "pythonIndentUnit": 4
   },
   "notebookName": "04-Ingest-Geolocation-API-Source-Data",
   "widgets": {}
  },
  "language_info": {
   "name": "python"
  }
 },
 "nbformat": 4,
 "nbformat_minor": 0
}
