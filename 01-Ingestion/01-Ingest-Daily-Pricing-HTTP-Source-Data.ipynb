{
 "cells": [
  {
   "cell_type": "code",
   "execution_count": 0,
   "metadata": {
    "application/vnd.databricks.v1+cell": {
     "cellMetadata": {
      "byteLimit": 2048000,
      "rowLimit": 10000
     },
     "inputWidgets": {},
     "nuid": "b37ca4ec-15d1-485e-b7e0-5797da5c38cb",
     "showTitle": false,
     "tableResultSettingsMap": {},
     "title": ""
    }
   },
   "outputs": [],
   "source": [
    "processName = dbutils.widgets.get('prm_processName')\n",
    "\n",
    "nextSourceFileDateSql = f\"\"\"SELECT NVL(MAX(PROCESSED_FILE_TABLE_DATE)+1,'2023-01-01') as NEXT_SOURCE_FILE_DATE \n",
    "FROM pricing_analytics.processrunlogs.DELTALAKEHOUSE_PROCESS_RUNS \n",
    "WHERE PROCESS_NAME = '{processName}' and PROCESS_STATUS ='Completed'\"\"\"\n",
    "\n",
    "nextSourceFileDateDF = spark.sql(nextSourceFileDateSql)\n",
    "display(nextSourceFileDateDF)"
   ]
  },
  {
   "cell_type": "code",
   "execution_count": 0,
   "metadata": {
    "application/vnd.databricks.v1+cell": {
     "cellMetadata": {
      "byteLimit": 2048000,
      "rowLimit": 10000
     },
     "inputWidgets": {},
     "nuid": "55e0d936-a8cf-472e-85b3-7230a020bc91",
     "showTitle": false,
     "tableResultSettingsMap": {},
     "title": ""
    }
   },
   "outputs": [],
   "source": [
    "from datetime import datetime"
   ]
  },
  {
   "cell_type": "code",
   "execution_count": 0,
   "metadata": {
    "application/vnd.databricks.v1+cell": {
     "cellMetadata": {
      "byteLimit": 2048000,
      "rowLimit": 10000
     },
     "inputWidgets": {},
     "nuid": "1ad9ea11-3cad-44af-b656-6e5c0919b8e5",
     "showTitle": false,
     "tableResultSettingsMap": {},
     "title": ""
    }
   },
   "outputs": [],
   "source": [
    "dailyPricingSourceBaseURL = 'https://retailpricing.blob.core.windows.net/'\n",
    "dailyPricingSourceFolder = 'daily-pricing/'\n",
    "dailyPricingSourceFileDate = datetime.strptime(str(nextSourceFileDateDF.select('NEXT_SOURCE_FILE_DATE').collect()[0]['NEXT_SOURCE_FILE_DATE']),'%Y-%m-%d').strftime('%m%d%Y')\n",
    "dailyPricingSourceFileName = f\"PW_MW_DR_{dailyPricingSourceFileDate}.csv\"\n",
    "\n",
    "dailyPricingSinkLayerName = 'bronze'\n",
    "dailyPricingSinkStorageAccountName = 'adlsadataengdev'\n",
    "dailyPricingSinkFolderName = 'daily-pricing'"
   ]
  },
  {
   "cell_type": "code",
   "execution_count": 0,
   "metadata": {
    "application/vnd.databricks.v1+cell": {
     "cellMetadata": {
      "byteLimit": 2048000,
      "rowLimit": 10000
     },
     "inputWidgets": {},
     "nuid": "530f3487-dfe1-4bd6-a459-c3b0c3230fc8",
     "showTitle": false,
     "tableResultSettingsMap": {},
     "title": ""
    }
   },
   "outputs": [],
   "source": [
    "import pandas as pds\n"
   ]
  },
  {
   "cell_type": "code",
   "execution_count": 0,
   "metadata": {
    "application/vnd.databricks.v1+cell": {
     "cellMetadata": {
      "byteLimit": 2048000,
      "rowLimit": 10000
     },
     "inputWidgets": {},
     "nuid": "6f812722-84f2-4a8d-a15d-f149b8727c44",
     "showTitle": false,
     "tableResultSettingsMap": {},
     "title": ""
    }
   },
   "outputs": [],
   "source": [
    "dailyPricingSourceURL = dailyPricingSourceBaseURL + dailyPricingSourceFolder + dailyPricingSourceFileName"
   ]
  },
  {
   "cell_type": "code",
   "execution_count": 0,
   "metadata": {
    "application/vnd.databricks.v1+cell": {
     "cellMetadata": {
      "byteLimit": 2048000,
      "rowLimit": 10000
     },
     "inputWidgets": {},
     "nuid": "db269d3b-4bc1-42b3-8830-40c0d8033712",
     "showTitle": false,
     "tableResultSettingsMap": {},
     "title": ""
    }
   },
   "outputs": [],
   "source": [
    "dailyPricingPandasDF = pds.read_csv(dailyPricingSourceURL)"
   ]
  },
  {
   "cell_type": "code",
   "execution_count": 0,
   "metadata": {
    "application/vnd.databricks.v1+cell": {
     "cellMetadata": {
      "byteLimit": 2048000,
      "rowLimit": 10000
     },
     "inputWidgets": {},
     "nuid": "bbf74013-00ce-4815-af35-af0213d2410d",
     "showTitle": false,
     "tableResultSettingsMap": {},
     "title": ""
    }
   },
   "outputs": [],
   "source": [
    "dailyPricingSparkDF = spark.createDataFrame(dailyPricingPandasDF)"
   ]
  },
  {
   "cell_type": "code",
   "execution_count": 0,
   "metadata": {
    "application/vnd.databricks.v1+cell": {
     "cellMetadata": {
      "byteLimit": 2048000,
      "rowLimit": 10000
     },
     "inputWidgets": {},
     "nuid": "b2824e94-3e66-4ae0-83db-13d6fa02324a",
     "showTitle": false,
     "tableResultSettingsMap": {},
     "title": ""
    }
   },
   "outputs": [],
   "source": [
    "from pyspark.sql.functions import current_timestamp\n",
    "dailyPricingSinkFolderPath = f\"abfss://{dailyPricingSinkLayerName}@{dailyPricingSinkStorageAccountName}.dfs.core.windows.net/{dailyPricingSinkFolderName}\"\n",
    "\n",
    "\n",
    "(\n",
    "    dailyPricingSparkDF\n",
    "    .withColumn(\"source_file_load_date\", current_timestamp())\n",
    "    .write\n",
    "    .mode(\"append\")\n",
    "    .option(\"header\", \"true\")\n",
    "    .csv(dailyPricingSinkFolderPath) \n",
    ")\n",
    "\n"
   ]
  },
  {
   "cell_type": "code",
   "execution_count": 0,
   "metadata": {
    "application/vnd.databricks.v1+cell": {
     "cellMetadata": {
      "byteLimit": 2048000,
      "rowLimit": 10000
     },
     "inputWidgets": {},
     "nuid": "845bffcd-be6b-4be2-8a2e-d5f8b2db2a1f",
     "showTitle": false,
     "tableResultSettingsMap": {},
     "title": ""
    }
   },
   "outputs": [],
   "source": [
    "\n",
    "processFileDate = nextSourceFileDateDF.select('NEXT_SOURCE_FILE_DATE').collect()[0]['NEXT_SOURCE_FILE_DATE']\n",
    "processStatus = 'Completed'\n",
    "\n",
    "processInsertSql = f\"\"\" INSERT INTO pricing_analytics.processrunlogs.DELTALAKEHOUSE_PROCESS_RUNS(PROCESS_NAME, PROCESSED_FILE_TABLE_DATE, PROCESS_STATUS) VALUES('{processName}', '{processFileDate}', '{processStatus}')\"\"\"\n",
    "\n",
    "spark.sql(processInsertSql)"
   ]
  }
 ],
 "metadata": {
  "application/vnd.databricks.v1+notebook": {
   "computePreferences": null,
   "dashboards": [],
   "environmentMetadata": {
    "base_environment": "",
    "environment_version": "2"
   },
   "language": "python",
   "notebookMetadata": {
    "mostRecentlyExecutedCommandWithImplicitDF": {
     "commandId": 3569202261954375,
     "dataframes": [
      "_sqldf"
     ]
    },
    "pythonIndentUnit": 4
   },
   "notebookName": "01-Ingest-Daily-Pricing-HTTP-Source-Data",
   "widgets": {
    "prm_processName": {
     "currentValue": "dailyPricingSourceIngest",
     "nuid": "ee06c152-5c65-4908-8913-4bd8d8b8700e",
     "typedWidgetInfo": {
      "autoCreated": false,
      "defaultValue": "",
      "label": "",
      "name": "prm_processName",
      "options": {
       "widgetDisplayType": "Text",
       "validationRegex": null
      },
      "parameterDataType": "String"
     },
     "widgetInfo": {
      "widgetType": "text",
      "defaultValue": "",
      "label": "",
      "name": "prm_processName",
      "options": {
       "widgetType": "text",
       "autoCreated": false,
       "validationRegex": null
      }
     }
    }
   }
  },
  "language_info": {
   "name": "python"
  }
 },
 "nbformat": 4,
 "nbformat_minor": 0
}
