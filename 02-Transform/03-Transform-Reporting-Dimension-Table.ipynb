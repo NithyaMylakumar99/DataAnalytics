{
 "cells": [
  {
   "cell_type": "markdown",
   "metadata": {
    "application/vnd.databricks.v1+cell": {
     "cellMetadata": {
      "byteLimit": 2048000,
      "rowLimit": 10000
     },
     "inputWidgets": {},
     "nuid": "3a9240ba-d038-4940-88b7-3c20dd97a045",
     "showTitle": false,
     "tableResultSettingsMap": {},
     "title": ""
    }
   },
   "source": [
    "03-Transform-Reporting-Dimension-Tables\n",
    "\n",
    "%md\n",
    "| SOURCE_TABLE_NAME | SOURCE_COLUMN_NAME | REPORTING_TABLE_NAME | REPORTING_COLUMN_NAME | TRANSFORMATION RULE | CONDITIONS |\n",
    "| --- | --- |--- | --- |--- |--- |\n",
    "| silver.daily_pricing_silver\t| state_name\t|***REPORTING_DIM_STATE_GOLD***\t|***STATE_NAME***\t| Select Unique state_name Values | Identify New/Changed Records From the Source Table . Use ***lakehouse_updated_date Column*** in source table to Identify New/Changed Records|\n",
    "| DERIVED\t| DERIVED\t|***REPORTING_DIM_STATE_GOLD***\t| ***STATE_ID***\t| Generate Running Sequnece ID For Each Unique state_name Values | 1. Make Sure No Duplicate State_Name Values Loaded 2.  When loading new State_Name values in subsquent run , STATE_ID values need to be generated on top of existing MAX(STATE_ID)   |\n",
    "| DERIVED\t| DERIVED\t|***REPORTING_DIM_STATE_GOLD***\t| ***lakehouse_inserted_date***\t| Load current_timestamp() | |\n",
    "| DERIVED\t| DERIVED\t|***REPORTING_DIM_STATE_GOLD***\t| ***lakehouse_updated_date***\t| Load current_timestamp() | |\n"
   ]
  },
  {
   "cell_type": "code",
   "execution_count": 0,
   "metadata": {
    "application/vnd.databricks.v1+cell": {
     "cellMetadata": {
      "byteLimit": 2048000,
      "rowLimit": 10000
     },
     "inputWidgets": {},
     "nuid": "21e293b4-9309-4c8c-b4f4-2412e1231459",
     "showTitle": false,
     "tableResultSettingsMap": {},
     "title": ""
    }
   },
   "outputs": [],
   "source": [
    "USE CATALOG pricing_analytics;\n",
    "\n",
    "CREATE OR REPLACE TABLE silver.reporting_dim_state_stage_1 AS\n",
    "SELECT \n",
    "DISTINCT STATE_NAME\n",
    "FROM silver.daily_pricing_silver\n",
    "WHERE lakehouse_updated_date > (SELECT nvl(max(PROCESSED_TABLE_DATETIME),'1900-01-01') FROM processrunlogs.deltalakehouse_process_runs\n",
    "WHERE process_name = 'reportingDimensionTablesload' AND process_status = 'Completed')"
   ]
  },
  {
   "cell_type": "code",
   "execution_count": 0,
   "metadata": {
    "application/vnd.databricks.v1+cell": {
     "cellMetadata": {
      "byteLimit": 2048000,
      "rowLimit": 10000
     },
     "inputWidgets": {},
     "nuid": "933a4b92-7e1a-45f0-a4dd-c28004b53902",
     "showTitle": false,
     "tableResultSettingsMap": {},
     "title": ""
    }
   },
   "outputs": [],
   "source": [
    "CREATE OR REPLACE TABLE silver.reporting_dim_state_stage_2 AS\n",
    "SELECT \n",
    "silverDim.STATE_NAME,\n",
    "ROW_NUMBER() OVER (ORDER BY silverDim.STATE_NAME) AS STATE_ID,\n",
    "current_timestamp()as lakehouse_inserted_date,\n",
    "current_timestamp() as lakehouse_updated_date\n",
    "FROM silver.reporting_dim_state_stage_1 silverDim\n",
    "LEFT OUTER JOIN gold.reporting_dim_state_gold goldDim\n",
    "ON silverDim.STATE_NAME = goldDim.STATE_NAME\n",
    "WHERE goldDim.STATE_NAME IS NULL"
   ]
  },
  {
   "cell_type": "code",
   "execution_count": 0,
   "metadata": {
    "application/vnd.databricks.v1+cell": {
     "cellMetadata": {
      "byteLimit": 2048000,
      "rowLimit": 10000
     },
     "inputWidgets": {},
     "nuid": "fd1e3106-ad5b-40f5-8e38-1a670d31dafc",
     "showTitle": false,
     "tableResultSettingsMap": {},
     "title": ""
    }
   },
   "outputs": [],
   "source": [
    "CREATE OR REPLACE TABLE silver.reporting_dim_state_stage_3 AS\n",
    "SELECT silverDim.STATE_NAME, \n",
    "silverDim.STATE_ID + PREV_MAX_SK_ID AS STATE_ID ,\n",
    "current_timestamp()as lakehouse_inserted_date,\n",
    "current_timestamp() as lakehouse_updated_date\n",
    "FROM \n",
    "silver.reporting_dim_state_stage_2 silverDim\n",
    "CROSS JOIN \n",
    "(SELECT NVl(MAX(STATE_ID),0) AS PREV_MAX_SK_ID FROM gold.reporting_dim_state_gold) goldDim\n"
   ]
  },
  {
   "cell_type": "code",
   "execution_count": 0,
   "metadata": {
    "application/vnd.databricks.v1+cell": {
     "cellMetadata": {
      "byteLimit": 2048000,
      "rowLimit": 10000
     },
     "inputWidgets": {},
     "nuid": "1ceac753-a467-4e68-8911-ed43c5681113",
     "showTitle": false,
     "tableResultSettingsMap": {},
     "title": ""
    }
   },
   "outputs": [],
   "source": [
    "INSERT INTO gold.reporting_dim_state_gold\n",
    "SELECT \n",
    "STATE_NAME,\n",
    "STATE_ID,\n",
    "current_timestamp(),\n",
    "current_timestamp()\n",
    "FROM silver.reporting_dim_state_stage_3"
   ]
  },
  {
   "cell_type": "code",
   "execution_count": 0,
   "metadata": {
    "application/vnd.databricks.v1+cell": {
     "cellMetadata": {
      "byteLimit": 2048000,
      "rowLimit": 10000
     },
     "inputWidgets": {},
     "nuid": "508d80b4-a10d-463d-834f-41dd378d9af5",
     "showTitle": false,
     "tableResultSettingsMap": {},
     "title": ""
    }
   },
   "outputs": [],
   "source": [
    "USE CATALOG pricing_analytics;\n",
    "\n",
    "CREATE OR REPLACE TABLE silver.reporting_dim_market_stage_1 AS\n",
    "SELECT \n",
    "DISTINCT MARKET_NAME\n",
    "FROM silver.daily_pricing_silver\n",
    "WHERE lakehouse_updated_date > (SELECT nvl(max(PROCESSED_TABLE_DATETIME),'1900-01-01') FROM processrunlogs.deltalakehouse_process_runs\n",
    "WHERE process_name = 'reportingDimensionTablesload' AND process_status = 'Completed')"
   ]
  },
  {
   "cell_type": "code",
   "execution_count": 0,
   "metadata": {
    "application/vnd.databricks.v1+cell": {
     "cellMetadata": {
      "byteLimit": 2048000,
      "rowLimit": 10000
     },
     "inputWidgets": {},
     "nuid": "47544286-16fd-4b93-a802-af2dfab5aa9d",
     "showTitle": false,
     "tableResultSettingsMap": {},
     "title": ""
    }
   },
   "outputs": [],
   "source": [
    "CREATE OR REPLACE TABLE silver.reporting_dim_market_stage_2 AS\n",
    "SELECT \n",
    "silverDim.MARKET_NAME,\n",
    "ROW_NUMBER() OVER (ORDER BY silverDim.MARKET_NAME) AS MARKET_ID,\n",
    "current_timestamp()as lakehouse_inserted_date,\n",
    "current_timestamp() as lakehouse_updated_date\n",
    "FROM silver.reporting_dim_market_stage_1 silverDim\n",
    "LEFT OUTER JOIN gold.reporting_dim_market_gold goldDim\n",
    "ON silverDim.MARKET_NAME = goldDim.MARKET_NAME\n",
    "WHERE goldDim.MARKET_NAME IS NULL"
   ]
  },
  {
   "cell_type": "code",
   "execution_count": 0,
   "metadata": {
    "application/vnd.databricks.v1+cell": {
     "cellMetadata": {
      "byteLimit": 2048000,
      "rowLimit": 10000
     },
     "inputWidgets": {},
     "nuid": "a6cab22e-a74c-4dac-a0c8-4f8470976e66",
     "showTitle": false,
     "tableResultSettingsMap": {},
     "title": ""
    }
   },
   "outputs": [],
   "source": [
    "CREATE OR REPLACE TABLE silver.reporting_dim_market_stage_3 AS\n",
    "SELECT silverDim.MARKET_NAME, \n",
    "silverDim.MARKET_ID + PREV_MAX_SK_ID AS MARKET_ID ,\n",
    "current_timestamp()as lakehouse_inserted_date,\n",
    "current_timestamp() as lakehouse_updated_date\n",
    "FROM \n",
    "silver.reporting_dim_market_stage_2 silverDim\n",
    "CROSS JOIN \n",
    "(SELECT NVl(MAX(MARKET_ID),0) AS PREV_MAX_SK_ID FROM gold.reporting_dim_market_gold) goldDim"
   ]
  },
  {
   "cell_type": "code",
   "execution_count": 0,
   "metadata": {
    "application/vnd.databricks.v1+cell": {
     "cellMetadata": {
      "byteLimit": 2048000,
      "rowLimit": 10000
     },
     "inputWidgets": {},
     "nuid": "74288719-f80f-44ea-ad1d-08210ce98d5c",
     "showTitle": false,
     "tableResultSettingsMap": {},
     "title": ""
    }
   },
   "outputs": [],
   "source": [
    "INSERT INTO gold.reporting_dim_market_gold\n",
    "SELECT \n",
    "MARKET_NAME,\n",
    "MARKET_ID,\n",
    "current_timestamp(),\n",
    "current_timestamp()\n",
    "FROM silver.reporting_dim_market_stage_3"
   ]
  },
  {
   "cell_type": "code",
   "execution_count": 0,
   "metadata": {
    "application/vnd.databricks.v1+cell": {
     "cellMetadata": {
      "byteLimit": 2048000,
      "rowLimit": 10000
     },
     "inputWidgets": {},
     "nuid": "317c247f-9b15-40b8-b1ad-363126678bbb",
     "showTitle": false,
     "tableResultSettingsMap": {},
     "title": ""
    }
   },
   "outputs": [],
   "source": [
    "\n",
    "CREATE OR REPLACE TABLE silver.reporting_dim_variety_stage_1 AS\n",
    "SELECT \n",
    "DISTINCT VARIETY\n",
    "FROM silver.daily_pricing_silver\n",
    "WHERE lakehouse_updated_date > (SELECT nvl(max(PROCESSED_TABLE_DATETIME),'1900-01-01') FROM processrunlogs.deltalakehouse_process_runs\n",
    "WHERE process_name = 'reportingDimensionTablesload' AND process_status = 'Completed')"
   ]
  },
  {
   "cell_type": "code",
   "execution_count": 0,
   "metadata": {
    "application/vnd.databricks.v1+cell": {
     "cellMetadata": {
      "byteLimit": 2048000,
      "rowLimit": 10000
     },
     "inputWidgets": {},
     "nuid": "ea4daaa8-4e55-44a9-8c35-354cb9d3b5a4",
     "showTitle": false,
     "tableResultSettingsMap": {},
     "title": ""
    }
   },
   "outputs": [],
   "source": [
    "CREATE OR REPLACE TABLE silver.reporting_dim_variety_stage_2 AS\n",
    "SELECT \n",
    "silverDim.VARIETY,\n",
    "ROW_NUMBER() OVER (ORDER BY silverDim.VARIETY) AS VARIETY_ID,\n",
    "current_timestamp()as lakehouse_inserted_date,\n",
    "current_timestamp() as lakehouse_updated_date\n",
    "FROM silver.reporting_dim_variety_stage_1 silverDim\n",
    "LEFT OUTER JOIN gold.reporting_dim_variety_gold goldDim\n",
    "ON silverDim.VARIETY = goldDim.VARIETY\n",
    "WHERE goldDim.VARIETY IS NULL"
   ]
  },
  {
   "cell_type": "code",
   "execution_count": 0,
   "metadata": {
    "application/vnd.databricks.v1+cell": {
     "cellMetadata": {
      "byteLimit": 2048000,
      "rowLimit": 10000
     },
     "inputWidgets": {},
     "nuid": "643dc240-47a0-4af0-beda-20792810feed",
     "showTitle": false,
     "tableResultSettingsMap": {},
     "title": ""
    }
   },
   "outputs": [],
   "source": [
    "CREATE OR REPLACE TABLE silver.reporting_dim_variety_stage_3 AS\n",
    "SELECT silverDim.VARIETY, \n",
    "silverDim.VARIETY_ID + PREV_MAX_SK_ID AS VARIETY_ID ,\n",
    "current_timestamp()as lakehouse_inserted_date,\n",
    "current_timestamp() as lakehouse_updated_date\n",
    "FROM \n",
    "silver.reporting_dim_variety_stage_2 silverDim\n",
    "CROSS JOIN \n",
    "(SELECT NVl(MAX(VARIETY_ID),0) AS PREV_MAX_SK_ID FROM gold.reporting_dim_variety_gold) goldDim"
   ]
  },
  {
   "cell_type": "code",
   "execution_count": 0,
   "metadata": {
    "application/vnd.databricks.v1+cell": {
     "cellMetadata": {
      "byteLimit": 2048000,
      "rowLimit": 10000
     },
     "inputWidgets": {},
     "nuid": "38a768ba-1705-40cd-aade-0976b1943b75",
     "showTitle": false,
     "tableResultSettingsMap": {},
     "title": ""
    }
   },
   "outputs": [],
   "source": [
    "INSERT INTO gold.reporting_dim_variety_gold\n",
    "SELECT \n",
    "VARIETY,\n",
    "VARIETY_ID,\n",
    "current_timestamp(),\n",
    "current_timestamp()\n",
    "FROM silver.reporting_dim_variety_stage_3"
   ]
  },
  {
   "cell_type": "code",
   "execution_count": 0,
   "metadata": {
    "application/vnd.databricks.v1+cell": {
     "cellMetadata": {
      "byteLimit": 2048000,
      "rowLimit": 10000
     },
     "inputWidgets": {},
     "nuid": "9ab598dd-f623-408f-b005-3c7ddaf155e5",
     "showTitle": false,
     "tableResultSettingsMap": {},
     "title": ""
    }
   },
   "outputs": [],
   "source": [
    "USE CATALOG pricing_analytics;\n",
    "\n",
    "CREATE OR REPLACE TABLE silver.reporting_dim_product_stage_1 AS\n",
    "SELECT \n",
    "DISTINCT PRODUCT_NAME,\n",
    "PRODUCTGROUP_NAME\n",
    "FROM silver.daily_pricing_silver\n",
    "WHERE lakehouse_updated_date > (SELECT nvl(max(PROCESSED_TABLE_DATETIME),'1900-01-01') FROM processrunlogs.deltalakehouse_process_runs\n",
    "WHERE process_name = 'reportingDimensionTablesload' AND process_status = 'Completed')"
   ]
  },
  {
   "cell_type": "code",
   "execution_count": 0,
   "metadata": {
    "application/vnd.databricks.v1+cell": {
     "cellMetadata": {
      "byteLimit": 2048000,
      "rowLimit": 10000
     },
     "inputWidgets": {},
     "nuid": "4c05a5e5-c2d3-417a-9793-9879b0323473",
     "showTitle": false,
     "tableResultSettingsMap": {},
     "title": ""
    }
   },
   "outputs": [],
   "source": [
    "CREATE OR REPLACE TABLE silver.reporting_dim_product_stage_2 AS\n",
    "SELECT \n",
    "silverDim.PRODUCT_NAME,\n",
    "silverDim.PRODUCTGROUP_NAME,\n",
    "ROW_NUMBER() OVER ( ORDER BY silverDim.PRODUCT_NAME,silverDim.PRODUCTGROUP_NAME) AS PRODUCT_ID,\n",
    "current_timestamp()as lakehouse_inserted_date,\n",
    "current_timestamp() as lakehouse_updated_date\n",
    "FROM silver.reporting_dim_product_stage_1 silverDim\n",
    "LEFT OUTER JOIN gold.reporting_dim_product_gold goldDim\n",
    "ON silverDim.PRODUCT_NAME = goldDim.PRODUCT_NAME\n",
    "AND silverDim.PRODUCTGROUP_NAME = goldDim.PRODUCTGROUP_NAME\n",
    "WHERE goldDim.PRODUCT_NAME  IS NULL"
   ]
  },
  {
   "cell_type": "code",
   "execution_count": 0,
   "metadata": {
    "application/vnd.databricks.v1+cell": {
     "cellMetadata": {
      "byteLimit": 2048000,
      "rowLimit": 10000
     },
     "inputWidgets": {},
     "nuid": "6ee2ea38-792c-4770-b550-d08fe804b583",
     "showTitle": false,
     "tableResultSettingsMap": {},
     "title": ""
    }
   },
   "outputs": [],
   "source": [
    "CREATE OR REPLACE TABLE silver.reporting_dim_product_stage_3 AS\n",
    "SELECT silverDim.PRODUCT_NAME,\n",
    "silverDim.PRODUCTGROUP_NAME ,\n",
    "silverDim.PRODUCT_ID + PREV_MAX_SK_ID AS PRODUCT_ID ,\n",
    "current_timestamp()as lakehouse_inserted_date,\n",
    "current_timestamp() as lakehouse_updated_date\n",
    "FROM \n",
    "silver.reporting_dim_product_stage_2 silverDim\n",
    "CROSS JOIN \n",
    "(SELECT NVl(MAX(PRODUCT_ID),0) AS PREV_MAX_SK_ID FROM gold.reporting_dim_product_gold) goldDim"
   ]
  },
  {
   "cell_type": "code",
   "execution_count": 0,
   "metadata": {
    "application/vnd.databricks.v1+cell": {
     "cellMetadata": {
      "byteLimit": 2048000,
      "rowLimit": 10000
     },
     "inputWidgets": {},
     "nuid": "eeb992a1-1995-4a45-884c-bb3da2122cf5",
     "showTitle": false,
     "tableResultSettingsMap": {},
     "title": ""
    }
   },
   "outputs": [],
   "source": [
    "INSERT INTO gold.reporting_dim_product_gold\n",
    "SELECT \n",
    "PRODUCTGROUP_NAME,\n",
    "PRODUCT_NAME\n",
    ",PRODUCT_ID,\n",
    "current_timestamp(),\n",
    "current_timestamp()\n",
    "FROM silver.reporting_dim_product_stage_3"
   ]
  },
  {
   "cell_type": "code",
   "execution_count": 0,
   "metadata": {
    "application/vnd.databricks.v1+cell": {
     "cellMetadata": {
      "byteLimit": 2048000,
      "rowLimit": 10000
     },
     "inputWidgets": {},
     "nuid": "4ba5c5f8-8796-4db0-ae58-900615b6cc76",
     "showTitle": false,
     "tableResultSettingsMap": {},
     "title": ""
    }
   },
   "outputs": [],
   "source": [
    "INSERT INTO processrunlogs.deltalakehouse_process_runs(PROCESS_NAME,PROCESSED_TABLE_DATETIME,PROCESS_STATUS)\n",
    "SELECT 'reportingDimensionTablesload', max(lakehouse_updated_date), 'Completed' FROM silver.daily_pricing_silver  "
   ]
  },
  {
   "cell_type": "code",
   "execution_count": 0,
   "metadata": {
    "application/vnd.databricks.v1+cell": {
     "cellMetadata": {},
     "inputWidgets": {},
     "nuid": "796da6b2-9033-4e88-afed-98222f0449d3",
     "showTitle": false,
     "tableResultSettingsMap": {},
     "title": ""
    }
   },
   "outputs": [],
   "source": []
  },
  {
   "cell_type": "code",
   "execution_count": 0,
   "metadata": {
    "application/vnd.databricks.v1+cell": {
     "cellMetadata": {},
     "inputWidgets": {},
     "nuid": "7ce7a60e-3970-4013-b832-a1abad4eb652",
     "showTitle": false,
     "tableResultSettingsMap": {},
     "title": ""
    }
   },
   "outputs": [],
   "source": []
  }
 ],
 "metadata": {
  "application/vnd.databricks.v1+notebook": {
   "computePreferences": null,
   "dashboards": [],
   "environmentMetadata": {
    "base_environment": "",
    "environment_version": "2"
   },
   "language": "sql",
   "notebookMetadata": {
    "pythonIndentUnit": 4
   },
   "notebookName": "03-Transform-Reporting-Dimension-Table",
   "widgets": {}
  },
  "language_info": {
   "name": "sql"
  }
 },
 "nbformat": 4,
 "nbformat_minor": 0
}
