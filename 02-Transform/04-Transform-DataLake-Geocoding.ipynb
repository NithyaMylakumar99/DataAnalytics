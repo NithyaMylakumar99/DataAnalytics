{
 "cells": [
  {
   "cell_type": "markdown",
   "metadata": {
    "application/vnd.databricks.v1+cell": {
     "cellMetadata": {},
     "inputWidgets": {},
     "nuid": "8d260003-f9e7-42df-8804-e8e36ae37d67",
     "showTitle": false,
     "tableResultSettingsMap": {},
     "title": ""
    }
   },
   "source": [
    "%md\n",
    "GeoLocation JSON Source File Path : \"abfss://bronze@adlsadataengdev.dfs.core.windows.net/geo-location/\""
   ]
  },
  {
   "cell_type": "code",
   "execution_count": 0,
   "metadata": {
    "application/vnd.databricks.v1+cell": {
     "cellMetadata": {
      "byteLimit": 2048000,
      "rowLimit": 10000
     },
     "inputWidgets": {},
     "nuid": "b3144852-e978-40c0-970c-8c3ef94370b0",
     "showTitle": false,
     "tableResultSettingsMap": {},
     "title": ""
    }
   },
   "outputs": [],
   "source": [
    "geoLocationSourceLayerName = 'bronze'\n",
    "geoLocationSourceStorageAccountName = 'adlsadataengdev'\n",
    "geoLocationSourceFolderName = 'geo-location'\n",
    "\n",
    "geoLocationSourceFolderPath = f\"abfss://{geoLocationSourceLayerName}@{geoLocationSourceStorageAccountName}.dfs.core.windows.net/{geoLocationSourceFolderName}\""
   ]
  },
  {
   "cell_type": "code",
   "execution_count": 0,
   "metadata": {
    "application/vnd.databricks.v1+cell": {
     "cellMetadata": {
      "byteLimit": 2048000,
      "rowLimit": 10000
     },
     "inputWidgets": {},
     "nuid": "356cc08c-00b6-494d-ba61-149a00516251",
     "showTitle": false,
     "tableResultSettingsMap": {},
     "title": ""
    }
   },
   "outputs": [],
   "source": [
    "geoLocationBronzeDF = (spark\n",
    "                       .read\n",
    "                       .json(geoLocationSourceFolderPath)\n",
    ")"
   ]
  },
  {
   "cell_type": "code",
   "execution_count": 0,
   "metadata": {
    "application/vnd.databricks.v1+cell": {
     "cellMetadata": {
      "byteLimit": 2048000,
      "rowLimit": 10000
     },
     "inputWidgets": {},
     "nuid": "ce13728a-3b70-45b4-9209-06f388a2874f",
     "showTitle": false,
     "tableResultSettingsMap": {},
     "title": ""
    }
   },
   "outputs": [],
   "source": [
    "display(geoLocationBronzeDF)"
   ]
  },
  {
   "cell_type": "code",
   "execution_count": 0,
   "metadata": {
    "application/vnd.databricks.v1+cell": {
     "cellMetadata": {
      "byteLimit": 2048000,
      "rowLimit": 10000
     },
     "inputWidgets": {},
     "nuid": "6d8bbb0f-dfc7-4b1c-a1b6-0523131e6099",
     "showTitle": false,
     "tableResultSettingsMap": {},
     "title": ""
    }
   },
   "outputs": [],
   "source": [
    "from pyspark.sql.functions import *\n",
    "\n",
    "geoLocationSilverDF = ( geoLocationBronzeDF\n",
    "                       .select(col('results.admin1').alias('stateName')\n",
    "                               ,col('results.admin2').alias('districtName')\n",
    "                               ,col('results.country').alias('countryName')\n",
    "                               ,col('results.latitude').alias('latitude')\n",
    "                               ,col('results.longitude').alias('longitude')\n",
    "                               ,col('results.name').alias('marketName')\n",
    "                               ,col('results.population').alias('population')\n",
    ")\n",
    ")\n",
    "\n",
    "display(geoLocationSilverDF)\n"
   ]
  },
  {
   "cell_type": "code",
   "execution_count": 0,
   "metadata": {
    "application/vnd.databricks.v1+cell": {
     "cellMetadata": {
      "byteLimit": 2048000,
      "rowLimit": 10000
     },
     "inputWidgets": {},
     "nuid": "066398e9-757d-437f-a6c5-05c635136271",
     "showTitle": false,
     "tableResultSettingsMap": {},
     "title": ""
    }
   },
   "outputs": [],
   "source": [
    "geoLocationStateTransDF = (geoLocationSilverDF\n",
    ".select(explode(\"stateName\")\n",
    "        ,monotonically_increasing_id().alias('stateSequenceId')\n",
    "))"
   ]
  },
  {
   "cell_type": "code",
   "execution_count": 0,
   "metadata": {
    "application/vnd.databricks.v1+cell": {
     "cellMetadata": {
      "byteLimit": 2048000,
      "rowLimit": 10000
     },
     "inputWidgets": {},
     "nuid": "474d9369-95d7-4f5a-8905-866911537e54",
     "showTitle": false,
     "tableResultSettingsMap": {},
     "title": ""
    }
   },
   "outputs": [],
   "source": [
    "geoLocationStateTransDF = (geoLocationSilverDF\n",
    ".select(explode(\"stateName\").alias('stateName')\n",
    "        ,monotonically_increasing_id().alias('stateSequenceId')\n",
    "))\n",
    "\n",
    "geoLocationDistrictTransDF = (geoLocationSilverDF\n",
    ".select(explode(\"districtName\").alias('districtName')\n",
    "        ,monotonically_increasing_id().alias('districtSequenceId')\n",
    "))\n",
    "\n",
    "geoLocationCountryTransDF = (geoLocationSilverDF\n",
    ".select(explode(\"countryName\").alias('countryName')\n",
    "        ,monotonically_increasing_id().alias('countryNameSequenceId')\n",
    "))\n",
    "geoLocationLatitudeTransDF = (geoLocationSilverDF\n",
    ".select(explode(\"latitude\").alias('latitude')\n",
    "        ,monotonically_increasing_id().alias('latitudeSequenceId')\n",
    "))\n",
    "\n",
    "geoLocationLongitudeTransDF = (geoLocationSilverDF\n",
    ".select(explode(\"longitude\").alias('longitude')\n",
    "        ,monotonically_increasing_id().alias('longitudeSequenceId')\n",
    "))\n",
    "\n",
    "geoLocationMarketTransDF = (geoLocationSilverDF\n",
    ".select(explode(\"marketName\").alias('marketName')\n",
    "        ,monotonically_increasing_id().alias('marketSequenceId')\n",
    "))\n",
    "\n",
    "geoLocationPopulationTransDF = (geoLocationSilverDF\n",
    ".select(explode(\"population\").alias('population')\n",
    "        ,monotonically_increasing_id().alias('populationSequenceId')\n",
    "))"
   ]
  },
  {
   "cell_type": "code",
   "execution_count": 0,
   "metadata": {
    "application/vnd.databricks.v1+cell": {
     "cellMetadata": {
      "byteLimit": 2048000,
      "rowLimit": 10000
     },
     "inputWidgets": {},
     "nuid": "3e0215f5-eaf5-4602-af3a-f5fa3575a82d",
     "showTitle": false,
     "tableResultSettingsMap": {},
     "title": ""
    }
   },
   "outputs": [],
   "source": [
    "geoLocationSilverTransDF = ( geoLocationStateTransDF\n",
    "                            .join(geoLocationDistrictTransDF,\n",
    "                                col('stateSequenceId') == col('districtSequenceId')) \n",
    "                            .join(geoLocationCountryTransDF, col('stateSequenceId') == col('countryNameSequenceId'))\n",
    "                            .join(geoLocationLatitudeTransDF, col('stateSequenceId') == col('latitudeSequenceId'))\n",
    "                            .join(geoLocationLongitudeTransDF, col('stateSequenceId') == col('longitudeSequenceId'))\n",
    "                            .join(geoLocationMarketTransDF, col('stateSequenceId') == col('marketSequenceId'))\n",
    "                            .join(geoLocationPopulationTransDF, col('stateSequenceId') == col('populationSequenceId'))\n",
    "                            .select(col(\"stateName\")\n",
    "                                    ,col(\"districtName\")\n",
    "                                    ,col(\"countryName\")\n",
    "                                    ,col(\"latitude\")\n",
    "                                    ,col(\"longitude\")\n",
    "                                    ,col(\"marketName\")\n",
    "                                    ,col(\"population\")\n",
    "                                    \n",
    "))\n",
    "\n",
    "display(geoLocationSilverTransDF)"
   ]
  },
  {
   "cell_type": "code",
   "execution_count": 0,
   "metadata": {
    "application/vnd.databricks.v1+cell": {
     "cellMetadata": {
      "byteLimit": 2048000,
      "rowLimit": 10000
     },
     "inputWidgets": {},
     "nuid": "91a09419-a82c-42ce-aab7-fe8cb910af00",
     "showTitle": false,
     "tableResultSettingsMap": {},
     "title": ""
    }
   },
   "outputs": [],
   "source": [
    "(geoLocationSilverTransDF\n",
    " .write\n",
    " .mode(\"overwrite\")\n",
    " .saveAsTable(\"pricing_analytics.silver.geo_location_silver\"))"
   ]
  },
  {
   "cell_type": "code",
   "execution_count": 0,
   "metadata": {
    "application/vnd.databricks.v1+cell": {
     "cellMetadata": {
      "byteLimit": 2048000,
      "implicitDf": true,
      "rowLimit": 10000
     },
     "inputWidgets": {},
     "nuid": "e4d7da24-013d-4028-8775-e1c65c1c1069",
     "showTitle": false,
     "tableResultSettingsMap": {},
     "title": ""
    }
   },
   "outputs": [],
   "source": [
    "%sql\n",
    "SELECT* FROM pricing_analytics.silver.geo_location_silver geolocation \n",
    "WHERE geolocation.MARKETNAME = 'Guntur'"
   ]
  },
  {
   "cell_type": "code",
   "execution_count": 0,
   "metadata": {
    "application/vnd.databricks.v1+cell": {
     "cellMetadata": {
      "byteLimit": 2048000,
      "implicitDf": true,
      "rowLimit": 10000
     },
     "inputWidgets": {},
     "nuid": "169f21b5-cee3-4747-aebc-0e6e2c38946d",
     "showTitle": false,
     "tableResultSettingsMap": {},
     "title": ""
    }
   },
   "outputs": [],
   "source": [
    "%sql\n",
    "SELECT* FROM pricing_analytics.silver.daily_pricing_silver dailyPricing\n",
    "WHERE dailyPricing.MARKET_NAME = 'Guntur'"
   ]
  },
  {
   "cell_type": "code",
   "execution_count": 0,
   "metadata": {
    "application/vnd.databricks.v1+cell": {
     "cellMetadata": {
      "byteLimit": 2048000,
      "implicitDf": true,
      "rowLimit": 10000
     },
     "inputWidgets": {},
     "nuid": "ba92a579-0b49-4a69-bc0c-509611a6ca65",
     "showTitle": false,
     "tableResultSettingsMap": {},
     "title": ""
    }
   },
   "outputs": [],
   "source": [
    "%sql\n",
    "SELECT DISTINCT geolocation.*\n",
    "FROM pricing_analytics.silver.geo_location_silver geolocation\n",
    "INNER JOIN pricing_analytics.silver.daily_pricing_silver dailyPricing\n",
    "ON geolocation.stateName = dailyPricing.STATE_NAME\n",
    "AND geolocation.marketName = dailyPricing.MARKET_NAME\n",
    "WHERE geolocation.countryName = 'India'\n"
   ]
  }
 ],
 "metadata": {
  "application/vnd.databricks.v1+notebook": {
   "computePreferences": null,
   "dashboards": [],
   "environmentMetadata": {
    "base_environment": "",
    "environment_version": "2"
   },
   "language": "python",
   "notebookMetadata": {
    "mostRecentlyExecutedCommandWithImplicitDF": {
     "commandId": 3245968133993742,
     "dataframes": [
      "_sqldf"
     ]
    },
    "pythonIndentUnit": 4
   },
   "notebookName": "04-Transform-DataLake-Geocoding",
   "widgets": {}
  },
  "language_info": {
   "name": "python"
  }
 },
 "nbformat": 4,
 "nbformat_minor": 0
}
