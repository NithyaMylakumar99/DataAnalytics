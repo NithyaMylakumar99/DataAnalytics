{
 "cells": [
  {
   "cell_type": "code",
   "execution_count": 0,
   "metadata": {
    "application/vnd.databricks.v1+cell": {
     "cellMetadata": {
      "byteLimit": 2048000,
      "rowLimit": 10000
     },
     "inputWidgets": {},
     "nuid": "54ee4b15-597e-424f-964e-164ab1751f47",
     "showTitle": false,
     "tableResultSettingsMap": {},
     "title": ""
    }
   },
   "outputs": [],
   "source": [
    "USE CATALOG pricing_analytics;\n",
    "INSERT INTO silver.daily_pricing_silver\n",
    "SELECT \n",
    "to_date(DATE_OF_PRICING, 'dd/MM/yyyy'),\n",
    "cast(ROW_ID as bigint),\n",
    "STATE_NAME,\n",
    "MARKET_NAME,\n",
    "PRODUCTGROUP_NAME,\n",
    "PRODUCT_NAME,\n",
    "VARIETY,\n",
    "ORIGIN,\n",
    "cast(ARRIVAL_IN_TONNES as decimal(18,2)),\n",
    "cast(MINIMUM_PRICE as decimal(36,2)),\n",
    "cast(MAXIMUM_PRICE as decimal(36,2)),\n",
    "cast(MODAL_PRICE as decimal(36,2)),\n",
    "source_file_load_date,\n",
    "current_timestamp(),\n",
    "current_timestamp\n",
    "FROM pricing_analytics.bronze.daily_pricing\n",
    "WHERE source_file_load_date > (SELECT nvl(max(PROCESSED_TABLE_DATETIME),'1900-01-01') FROM processrunlogs.deltalakehouse_process_runs\n",
    "WHERE process_name = 'daily_pricing_silver' AND process_status = 'completed')"
   ]
  },
  {
   "cell_type": "code",
   "execution_count": 0,
   "metadata": {
    "application/vnd.databricks.v1+cell": {
     "cellMetadata": {
      "byteLimit": 2048000,
      "rowLimit": 10000
     },
     "inputWidgets": {},
     "nuid": "8ee83cbb-57be-4e0d-a241-9a0ddb503dc2",
     "showTitle": false,
     "tableResultSettingsMap": {},
     "title": ""
    }
   },
   "outputs": [],
   "source": [
    "INSERT INTO pricing_analytics.processrunlogs.deltalakehouse_process_runs(PROCESS_NAME, PROCESSED_TABLE_DATETIME,PROCESS_STATUS)\n",
    "SELECT 'daily_pricing_silver' , max(source_file_load_date), 'completed' FROM pricing_analytics.silver.daily_pricing_silver ;"
   ]
  }
 ],
 "metadata": {
  "application/vnd.databricks.v1+notebook": {
   "computePreferences": null,
   "dashboards": [],
   "environmentMetadata": {
    "base_environment": "",
    "environment_version": "2"
   },
   "language": "sql",
   "notebookMetadata": {
    "pythonIndentUnit": 4
   },
   "notebookName": "01-Transform-Daily-Pricing-CSV-to-DELTA-Table",
   "widgets": {}
  },
  "language_info": {
   "name": "sql"
  }
 },
 "nbformat": 4,
 "nbformat_minor": 0
}
