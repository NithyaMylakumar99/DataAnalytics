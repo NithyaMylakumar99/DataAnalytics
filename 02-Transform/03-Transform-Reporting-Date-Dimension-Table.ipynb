{
 "cells": [
  {
   "cell_type": "code",
   "execution_count": 0,
   "metadata": {
    "application/vnd.databricks.v1+cell": {
     "cellMetadata": {
      "byteLimit": 2048000,
      "rowLimit": 10000
     },
     "inputWidgets": {},
     "nuid": "09418cd7-64fc-4eae-b3e8-c0a733d9d0dd",
     "showTitle": false,
     "tableResultSettingsMap": {},
     "title": ""
    }
   },
   "outputs": [],
   "source": [
    "import pandas as pds\n",
    "\n",
    "sourceDatePandasDF = pds.date_range(start = '1/1/2023', end = '31/12/2025')\n",
    "\n",
    "sourceDateSparkDF = spark.createDataFrame(sourceDatePandasDF.to_frame())\n",
    "\n",
    "display(sourceDateSparkDF)"
   ]
  },
  {
   "cell_type": "code",
   "execution_count": 0,
   "metadata": {
    "application/vnd.databricks.v1+cell": {
     "cellMetadata": {
      "byteLimit": 2048000,
      "rowLimit": 10000
     },
     "inputWidgets": {},
     "nuid": "eebf2ac1-d7c0-4df9-98e6-02f5679ddf1f",
     "showTitle": false,
     "tableResultSettingsMap": {},
     "title": ""
    }
   },
   "outputs": [],
   "source": [
    "sourceDateSparkDF.withColumnRenamed('0','calender_date').createOrReplaceTempView('source_date_dim')"
   ]
  },
  {
   "cell_type": "code",
   "execution_count": 0,
   "metadata": {
    "application/vnd.databricks.v1+cell": {
     "cellMetadata": {
      "byteLimit": 2048000,
      "implicitDf": true,
      "rowLimit": 10000
     },
     "inputWidgets": {},
     "nuid": "8667fd84-1430-4e79-87e5-129f11dcc3cc",
     "showTitle": false,
     "tableResultSettingsMap": {},
     "title": ""
    }
   },
   "outputs": [],
   "source": [
    "%sql\n",
    "SELECT * FROM source_date_dim"
   ]
  },
  {
   "cell_type": "code",
   "execution_count": 0,
   "metadata": {
    "application/vnd.databricks.v1+cell": {
     "cellMetadata": {
      "byteLimit": 2048000,
      "implicitDf": true,
      "rowLimit": 10000
     },
     "inputWidgets": {},
     "nuid": "ce81e49c-057c-4bdb-b77f-ff777c345db1",
     "showTitle": false,
     "tableResultSettingsMap": {},
     "title": ""
    }
   },
   "outputs": [],
   "source": [
    "%sql\n",
    "USE CATALOG pricing_analytics;\n",
    "TRUNCATE TABLE gold.reporting_dim_date_gold;\n",
    "INSERT INTO gold.reporting_dim_date_gold (CALENDAR_DATE, DATE_ID, lakehouse_inserted_date, lakehouse_updated_date)\n",
    "SELECT \n",
    "substring(calender_date, 1,10),\n",
    "date_format(calender_date, 'yyyyMMdd'),\n",
    "current_timestamp(),\n",
    "current_timestamp()\n",
    "FROM source_date_dim"
   ]
  }
 ],
 "metadata": {
  "application/vnd.databricks.v1+notebook": {
   "computePreferences": null,
   "dashboards": [],
   "environmentMetadata": {
    "base_environment": "",
    "environment_version": "2"
   },
   "language": "python",
   "notebookMetadata": {
    "mostRecentlyExecutedCommandWithImplicitDF": {
     "commandId": 4224813146951444,
     "dataframes": [
      "_sqldf"
     ]
    },
    "pythonIndentUnit": 4
   },
   "notebookName": "03-Transform-Reporting-Date-Dimension-Table",
   "widgets": {}
  },
  "language_info": {
   "name": "python"
  }
 },
 "nbformat": 4,
 "nbformat_minor": 0
}
